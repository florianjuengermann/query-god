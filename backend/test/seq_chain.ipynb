{
 "cells": [
  {
   "cell_type": "markdown",
   "metadata": {},
   "source": [
    "# Seq Chain"
   ]
  },
  {
   "cell_type": "code",
   "execution_count": 2,
   "metadata": {},
   "outputs": [],
   "source": [
    "from langchain.llms import OpenAI\n",
    "from langchain.chains import LLMChain\n",
    "from langchain.prompts import PromptTemplate"
   ]
  },
  {
   "cell_type": "code",
   "execution_count": 3,
   "metadata": {},
   "outputs": [],
   "source": [
    "%load_ext dotenv\n",
    "%dotenv"
   ]
  },
  {
   "cell_type": "code",
   "execution_count": 4,
   "metadata": {},
   "outputs": [],
   "source": [
    "# This is an LLMChain to write a synopsis given a title of a play.\n",
    "llm = OpenAI(temperature=.7)\n",
    "template = \"\"\"You are a playwright. Given the title of play and the era it is set in, it is your job to write a synopsis for that title.\n",
    "\n",
    "Title: {title}\n",
    "Era: {era}\n",
    "Playwright: This is a synopsis for the above play:\"\"\"\n",
    "prompt_template = PromptTemplate(input_variables=[\"title\", 'era'], template=template)\n",
    "synopsis_chain = LLMChain(llm=llm, prompt=prompt_template, output_key=\"synopsis\")"
   ]
  },
  {
   "cell_type": "code",
   "execution_count": 5,
   "metadata": {},
   "outputs": [],
   "source": [
    "# This is an LLMChain to write a review of a play given a synopsis.\n",
    "llm = OpenAI(temperature=.7)\n",
    "template = \"\"\"You are a play critic from the New York Times. Given the synopsis of play, it is your job to write a review for that play.\n",
    "\n",
    "Play Synopsis:\n",
    "{synopsis}\n",
    "Review from a New York Times play critic of the above play:\"\"\"\n",
    "prompt_template = PromptTemplate(input_variables=[\"synopsis\"], template=template)\n",
    "review_chain = LLMChain(llm=llm, prompt=prompt_template, output_key=\"review\")"
   ]
  },
  {
   "cell_type": "code",
   "execution_count": 6,
   "metadata": {},
   "outputs": [],
   "source": [
    "# This is the overall chain where we run these two chains in sequence.\n",
    "from langchain.chains import SequentialChain\n",
    "overall_chain = SequentialChain(\n",
    "    chains=[synopsis_chain, review_chain],\n",
    "    input_variables=[\"era\", \"title\"],\n",
    "    # Here we return multiple variables\n",
    "    output_variables=[\"synopsis\", \"review\"],\n",
    "    verbose=True)"
   ]
  },
  {
   "cell_type": "code",
   "execution_count": 7,
   "metadata": {},
   "outputs": [
    {
     "name": "stdout",
     "output_type": "stream",
     "text": [
      "\n",
      "\n",
      "\u001b[1m> Entering new SequentialChain chain...\u001b[0m\n",
      "\u001b[1mChain 0\u001b[0m:\n",
      "{'synopsis': \"\\n\\nTragedy at sunset on the beach takes us to the late 19th century in Victorian England. The play centers around two star-crossed lovers, Olivia and Edward, both of whom come from very different backgrounds. Edward is the son of the local gentry, while Olivia is the daughter of a humble fisherman. Despite their different upbringings, they have been in love since childhood, and their families have grudgingly accepted their relationship. \\n\\nThe play follows Olivia and Edward as they attempt to reconcile their two different worlds and marry. However, their plans are thwarted by a cruel twist of fate: Edward's father forbids their marriage, determined to keep his son in the upper echelons of society. \\n\\nDesperate to be together, Olivia and Edward devise a daring plan to elope at sunset on the beach. As the sun sets, they race to the shore, only to find their escape cut off by Edward's father and his cronies. In a heartbreaking moment, Olivia and Edward are forced to part ways, their dreams of a life together forever shattered. \\n\\nTragedy at sunset on the beach is a heartbreaking story of love, loss, and the power of family and society. It is sure to leave audiences\"}\n",
      "\n",
      "\u001b[1mChain 1\u001b[0m:\n",
      "{'review': \"\\n\\nTragedy at Sunset on the Beach is a powerful story of love, loss, and the struggle between family and society. This beautifully written play takes us back to Victorian England, where two star-crossed lovers, Olivia and Edward, battle against the odds to be together. Despite coming from two very different backgrounds, they have been in love since childhood and were determined to make their relationship work. Unfortunately, their plans are thwarted when Edward's father forbids their marriage, forcing them to part ways in a heartbreaking moment. \\n\\nThe performances in this play are remarkable, with each actor bringing their own unique energy and passion to their roles. The script is full of emotion, and the set design and costumes perfectly capture the era. Tragedy at Sunset on the Beach is an unforgettable experience that will stay with audiences long after the curtain falls. Highly recommended!\"}\n",
      "\n",
      "\n",
      "\u001b[1m> Finished SequentialChain chain.\u001b[0m\n"
     ]
    }
   ],
   "source": [
    "review = overall_chain({\"title\":\"Tragedy at sunset on the beach\", \"era\": \"Victorian England\"})\n"
   ]
  }
 ],
 "metadata": {
  "kernelspec": {
   "display_name": "Python 3.10.4 64-bit",
   "language": "python",
   "name": "python3"
  },
  "language_info": {
   "codemirror_mode": {
    "name": "ipython",
    "version": 3
   },
   "file_extension": ".py",
   "mimetype": "text/x-python",
   "name": "python",
   "nbconvert_exporter": "python",
   "pygments_lexer": "ipython3",
   "version": "3.8.10"
  },
  "orig_nbformat": 4,
  "vscode": {
   "interpreter": {
    "hash": "31f2aee4e71d21fbe5cf8b01ff0e069b9275f58929596ceb00d14d90e3e16cd6"
   }
  }
 },
 "nbformat": 4,
 "nbformat_minor": 2
}
