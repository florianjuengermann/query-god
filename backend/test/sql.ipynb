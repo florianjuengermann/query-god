{
 "cells": [
  {
   "cell_type": "markdown",
   "metadata": {},
   "source": [
    "# SQL"
   ]
  },
  {
   "cell_type": "code",
   "execution_count": 1,
   "metadata": {},
   "outputs": [],
   "source": [
    "%load_ext dotenv\n",
    "%dotenv"
   ]
  },
  {
   "cell_type": "code",
   "execution_count": 2,
   "metadata": {},
   "outputs": [],
   "source": [
    "from langchain import OpenAI, SelfAskWithSearchChain, LLMMathChain\n",
    "from sqlalchemy.engine import Engine, create_engine\n",
    "from langchain.agents import initialize_agent, Tool\n",
    "import os"
   ]
  },
  {
   "cell_type": "code",
   "execution_count": 3,
   "metadata": {},
   "outputs": [],
   "source": [
    "import sys\n",
    " # setting path\n",
    "sys.path.append('..')\n",
    "sys.path.append('../modules')\n",
    "sys.path.append('../modules/database/')\n",
    "\n",
    "from modules.database.sql_chain import SQLDatabaseChain\n",
    "from modules.database.sql_database import SQLDatabase"
   ]
  },
  {
   "cell_type": "code",
   "execution_count": 9,
   "metadata": {},
   "outputs": [
    {
     "name": "stdout",
     "output_type": "stream",
     "text": [
      "Tables found: ['users', 'templates', 'models', 'generations']\n"
     ]
    }
   ],
   "source": [
    "# connect to remote postgres database\n",
    "db = SQLDatabase.from_uri(os.getenv(\"DB_CONNECTION_STRING\"))\n",
    "print(\"Tables found:\", db._all_tables)\n",
    "db_chain = SQLDatabaseChain(llm=OpenAI(temperature=0), database=db, verbose=True, debug=False)"
   ]
  },
  {
   "cell_type": "code",
   "execution_count": 10,
   "metadata": {},
   "outputs": [],
   "source": [
    "# Load the tool configs that are needed.\n",
    "llm = OpenAI(temperature=0)\n",
    "llm_math_chain = LLMMathChain(llm=llm, verbose=True)\n",
    "tools = [\n",
    "    Tool(\n",
    "        name = \"Database\",\n",
    "        func=db_chain.run,\n",
    "        description=\"useful for when you need to answer questions about data in your database\"\n",
    "    ),\n",
    "    Tool(\n",
    "        name=\"Calculator\",\n",
    "        func=llm_math_chain.run,\n",
    "        description=\"useful for when you need to answer questions about math\"\n",
    "    )\n",
    "]"
   ]
  },
  {
   "cell_type": "code",
   "execution_count": 11,
   "metadata": {},
   "outputs": [],
   "source": [
    "llm = OpenAI(temperature=0)\n",
    "agent = initialize_agent(tools, llm, agent=\"zero-shot-react-description\", verbose=True)"
   ]
  },
  {
   "cell_type": "code",
   "execution_count": 13,
   "metadata": {},
   "outputs": [
    {
     "name": "stdout",
     "output_type": "stream",
     "text": [
      "\n",
      "\n",
      "\u001b[1m> Entering new ZeroShotAgent chain...\u001b[0m\n",
      "We had a bug yesterday. Are there any users that are stuck in training?\n",
      "Thought:\u001b[32;1m\u001b[1;3m I need to check the database to see if any users are stuck in training.\n",
      "Action: Database\n",
      "Action Input: Check for users stuck in training\u001b[0m\n",
      "\n",
      "\u001b[1m> Entering new SQLDatabaseChain chain...\u001b[0m\n",
      "Check for users stuck in training \n",
      "SQLQuery:\u001b[32;1m\u001b[1;3m SELECT users.id, users.email, models.status FROM users INNER JOIN models ON users.id = models.user_id WHERE models.status = 'training';\u001b[0m\n",
      "SQLResult: \u001b[33;1m\u001b[1;3m[(UUID('205c5203-00f8-4cde-bed6-87f4000a6f05'), '205c5203-00f8-4cde-bed6-87f4000a6f05@gmail.com', 'training'), (UUID('db53a306-324a-432e-b95b-b3efbc8fdfd7'), 'db53a306-324a-432e-b95b-b3efbc8fdfd7@gmail.com', 'training'), (UUID('dc225eea-0b69-4b35-ad27-73b356fe9cd8'), 'dc225eea-0b69-4b35-ad27-73b356fe9cd8@gmail.com', 'training'), (UUID('d0782554-1fec-491a-8d0a-1ca01d50e7d8'), 'd0782554-1fec-491a-8d0a-1ca01d50e7d8@gmail.com', 'training'), (UUID('71d0195a-da10-44e5-aac4-b822a2965939'), '71d0195a-da10-44e5-aac4-b822a2965939@gmail.com', 'training'), (UUID('5f6dbeb7-daa1-4f39-8190-b0b53bf411b1'), '5f6dbeb7-daa1-4f39-8190-b0b53bf411b1@gmail.com', 'training'), (UUID('459241df-e48d-46fa-b5a5-a07998956506'), '459241df-e48d-46fa-b5a5-a07998956506@gmail.com', 'training'), (UUID('88a4043d-29fd-4310-aa13-70a22c2c40b2'), '88a4043d-29fd-4310-aa13-70a22c2c40b2@gmail.com', 'training'), (UUID('083a55bc-c8be-4179-af41-0c9b4b55a0c1'), '083a55bc-c8be-4179-af41-0c9b4b55a0c1@gmail.com', 'training'), (UUID('3d45b074-ad39-4f8d-87e1-e220725ce19c'), '3d45b074-ad39-4f8d-87e1-e220725ce19c@gmail.com', 'training'), (UUID('c436d5cb-c73e-4dbf-b0ed-448d0f491343'), 'c436d5cb-c73e-4dbf-b0ed-448d0f491343@gmail.com', 'training'), (UUID('66a3e703-6144-4ed0-9b7f-50422d841f9e'), '66a3e703-6144-4ed0-9b7f-50422d841f9e@gmail.com', 'training'), (UUID('33d9d49e-7786-4609-acfb-1c465ef6e2d6'), '33d9d49e-7786-4609-acfb-1c465ef6e2d6@gmail.com', 'training'), (UUID('dc6118e5-7715-4f6d-819d-52f0c2061164'), 'dc6118e5-7715-4f6d-819d-52f0c2061164@gmail.com', 'training'), (UUID('9f8a7d78-4376-46ce-9571-d7dea5b8be32'), '9f8a7d78-4376-46ce-9571-d7dea5b8be32@gmail.com', 'training')]\u001b[0m\n",
      "Answer:\u001b[32;1m\u001b[1;3m There are 15 users stuck in training.\u001b[0m\n",
      "\u001b[1m> Finished SQLDatabaseChain chain.\u001b[0m\n",
      "\n",
      "Observation: \u001b[36;1m\u001b[1;3m There are 15 users stuck in training.\u001b[0m\n",
      "Thought:\u001b[32;1m\u001b[1;3m I now know the final answer.\n",
      "Final Answer: Yes, there are 15 users stuck in training.\u001b[0m\n",
      "\u001b[1m> Finished ZeroShotAgent chain.\u001b[0m\n"
     ]
    },
    {
     "data": {
      "text/plain": [
       "'Yes, there are 15 users stuck in training.'"
      ]
     },
     "execution_count": 13,
     "metadata": {},
     "output_type": "execute_result"
    }
   ],
   "source": [
    "agent.run(\"We had a bug yesterday. Are there any users that are stuck in training?\")"
   ]
  }
 ],
 "metadata": {
  "kernelspec": {
   "display_name": "Python 3.10.4 64-bit",
   "language": "python",
   "name": "python3"
  },
  "language_info": {
   "codemirror_mode": {
    "name": "ipython",
    "version": 3
   },
   "file_extension": ".py",
   "mimetype": "text/x-python",
   "name": "python",
   "nbconvert_exporter": "python",
   "pygments_lexer": "ipython3",
   "version": "3.8.10"
  },
  "orig_nbformat": 4,
  "vscode": {
   "interpreter": {
    "hash": "31f2aee4e71d21fbe5cf8b01ff0e069b9275f58929596ceb00d14d90e3e16cd6"
   }
  }
 },
 "nbformat": 4,
 "nbformat_minor": 2
}
