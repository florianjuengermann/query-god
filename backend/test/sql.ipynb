{
 "cells": [
  {
   "cell_type": "markdown",
   "metadata": {},
   "source": [
    "# SQL"
   ]
  },
  {
   "cell_type": "code",
   "execution_count": 1,
   "metadata": {},
   "outputs": [],
   "source": [
    "%load_ext dotenv\n",
    "%dotenv"
   ]
  },
  {
   "cell_type": "code",
   "execution_count": 2,
   "metadata": {},
   "outputs": [],
   "source": [
    "from langchain import OpenAI, SelfAskWithSearchChain, LLMMathChain\n",
    "from sqlalchemy.engine import Engine, create_engine\n",
    "from langchain.agents import initialize_agent, Tool\n",
    "import os"
   ]
  },
  {
   "cell_type": "code",
   "execution_count": 3,
   "metadata": {},
   "outputs": [],
   "source": [
    "import sys\n",
    " # setting path\n",
    "sys.path.append('..')\n",
    "sys.path.append('../modules')\n",
    "sys.path.append('../modules/database/')\n",
    "\n",
    "from modules.database.sql_chain import SQLDatabaseChain\n",
    "from modules.database.sql_database import SQLDatabase"
   ]
  },
  {
   "cell_type": "code",
   "execution_count": 4,
   "metadata": {},
   "outputs": [
    {
     "name": "stdout",
     "output_type": "stream",
     "text": [
      "Tables found: ['users', 'templates', 'models', 'generations']\n"
     ]
    }
   ],
   "source": [
    "# connect to remote postgres database\n",
    "db = SQLDatabase.from_uri(os.getenv(\"DB_CONNECTION_STRING\"))\n",
    "print(\"Tables found:\", db._all_tables)\n",
    "db_chain = SQLDatabaseChain(llm=OpenAI(), database=db, verbose=True, debug=True)"
   ]
  },
  {
   "cell_type": "code",
   "execution_count": 5,
   "metadata": {},
   "outputs": [],
   "source": [
    "# Load the tool configs that are needed.\n",
    "llm = OpenAI(temperature=0)\n",
    "llm_math_chain = LLMMathChain(llm=llm, verbose=True)\n",
    "tools = [\n",
    "    Tool(\n",
    "        name = \"Database\",\n",
    "        func=db_chain.run,\n",
    "        description=\"useful for when you need to answer questions about data in your database\"\n",
    "    ),\n",
    "    Tool(\n",
    "        name=\"Calculator\",\n",
    "        func=llm_math_chain.run,\n",
    "        description=\"useful for when you need to answer questions about math\"\n",
    "    )\n",
    "]"
   ]
  },
  {
   "cell_type": "code",
   "execution_count": 6,
   "metadata": {},
   "outputs": [],
   "source": [
    "llm = OpenAI(temperature=0)\n",
    "agent = initialize_agent(tools, llm, agent=\"zero-shot-react-description\", verbose=True)"
   ]
  },
  {
   "cell_type": "code",
   "execution_count": 7,
   "metadata": {},
   "outputs": [
    {
     "name": "stdout",
     "output_type": "stream",
     "text": [
      "\n",
      "\n",
      "\u001b[1m> Entering new ZeroShotAgent chain...\u001b[0m\n",
      "We had a bug yesterday. Are there any users that are stuck in training?\n",
      "Thought:\u001b[32;1m\u001b[1;3m I need to check the database to see if any users are stuck in training.\n",
      "Action: Database\n",
      "Action Input: Check for users stuck in training\u001b[0m\n",
      "\n",
      "\u001b[1m> Entering new SQLDatabaseChain chain...\u001b[0m\n",
      "\n",
      "\n",
      "\u001b[1m> Entering new LLMChain chain...\u001b[0m\n",
      "Prompt after formatting:\n",
      "\u001b[32;1m\u001b[1;3mGiven an input question, first create a syntactically correct postgresql query to run, then look at the results of the query and return the answer.\n",
      "Use the following format:\n",
      "\n",
      "Question: \"Question here\"\n",
      "SQLQuery: \"SQL Query to run\"\n",
      "SQLResult: \"Result of the SQLQuery\"\n",
      "Answer: \"Final answer here\"\n",
      "\n",
      "Only use the following tables:\n",
      "\n",
      "Table 'users' has columns: id (UUID), email (TEXT), payment_status (TEXT), ios_id (TEXT), fcm_token (TEXT), credits (BIGINT), finetune_access (BOOLEAN), experiment (TEXT).\n",
      "Table 'generations' has columns: id (UUID), created_at (TIMESTAMP WITH TIME ZONE), updated_at (TIMESTAMP WITH TIME ZONE), user_id (UUID), input (JSONB), status (TEXT), output (JSONB), template_id (UUID), model_id (UUID), output_no_wm (JSONB), num_retries (INTEGER).\n",
      "Table 'models' has columns: id (UUID), user_id (UUID), training_images (JSONB), created_at (TIMESTAMP WITH TIME ZONE), updated_at (TIMESTAMP WITH TIME ZONE), status (TEXT), estimated_time_to_completion (TIMESTAMP WITH TIME ZONE), model_name (TEXT), gender (TEXT), face_attributes (JSONB).\n",
      "Table 'templates' has columns: id (UUID), created_at (TIMESTAMP WITH TIME ZONE), updated_at (TIMESTAMP WITH TIME ZONE), name (TEXT), category (TEXT), description (TEXT), example_images (JSONB), type (TEXT), settings (JSONB), gender (TEXT), is_bestof (BOOLEAN), example_images_male (JSONB), example_images_female (JSONB).\n",
      "\n",
      "Question: Check for users stuck in training \n",
      "SQLQuery:\u001b[0m\n",
      "\n",
      "\u001b[1m> Finished LLMChain chain.\u001b[0m\n",
      "Check for users stuck in training \n",
      "SQLQuery:\u001b[32;1m\u001b[1;3m SELECT users.email FROM users \n",
      "          INNER JOIN models \n",
      "          ON users.id = models.user_id \n",
      "          WHERE models.status = 'training'\u001b[0m\n",
      "SQLResult: \u001b[33;1m\u001b[1;3m[]\u001b[0m\n",
      "Answer:\n",
      "\n",
      "\u001b[1m> Entering new LLMChain chain...\u001b[0m\n",
      "Prompt after formatting:\n",
      "\u001b[32;1m\u001b[1;3mGiven an input question, first create a syntactically correct postgresql query to run, then look at the results of the query and return the answer.\n",
      "Use the following format:\n",
      "\n",
      "Question: \"Question here\"\n",
      "SQLQuery: \"SQL Query to run\"\n",
      "SQLResult: \"Result of the SQLQuery\"\n",
      "Answer: \"Final answer here\"\n",
      "\n",
      "Only use the following tables:\n",
      "\n",
      "Table 'users' has columns: id (UUID), email (TEXT), payment_status (TEXT), ios_id (TEXT), fcm_token (TEXT), credits (BIGINT), finetune_access (BOOLEAN), experiment (TEXT).\n",
      "Table 'generations' has columns: id (UUID), created_at (TIMESTAMP WITH TIME ZONE), updated_at (TIMESTAMP WITH TIME ZONE), user_id (UUID), input (JSONB), status (TEXT), output (JSONB), template_id (UUID), model_id (UUID), output_no_wm (JSONB), num_retries (INTEGER).\n",
      "Table 'models' has columns: id (UUID), user_id (UUID), training_images (JSONB), created_at (TIMESTAMP WITH TIME ZONE), updated_at (TIMESTAMP WITH TIME ZONE), status (TEXT), estimated_time_to_completion (TIMESTAMP WITH TIME ZONE), model_name (TEXT), gender (TEXT), face_attributes (JSONB).\n",
      "Table 'templates' has columns: id (UUID), created_at (TIMESTAMP WITH TIME ZONE), updated_at (TIMESTAMP WITH TIME ZONE), name (TEXT), category (TEXT), description (TEXT), example_images (JSONB), type (TEXT), settings (JSONB), gender (TEXT), is_bestof (BOOLEAN), example_images_male (JSONB), example_images_female (JSONB).\n",
      "\n",
      "Question: Check for users stuck in training \n",
      "SQLQuery: SELECT users.email FROM users \n",
      "          INNER JOIN models \n",
      "          ON users.id = models.user_id \n",
      "          WHERE models.status = 'training'\n",
      "SQLResult: []\n",
      "Answer:\u001b[0m\n",
      "\n",
      "\u001b[1m> Finished LLMChain chain.\u001b[0m\n",
      "\u001b[32;1m\u001b[1;3m There are no users stuck in training.\u001b[0m\n",
      "\u001b[1m> Finished SQLDatabaseChain chain.\u001b[0m\n",
      "\n",
      "Observation: \u001b[36;1m\u001b[1;3m There are no users stuck in training.\u001b[0m\n",
      "Thought:\u001b[32;1m\u001b[1;3m I now know the final answer.\n",
      "Final Answer: No, there are no users stuck in training.\u001b[0m\n",
      "\u001b[1m> Finished ZeroShotAgent chain.\u001b[0m\n"
     ]
    },
    {
     "data": {
      "text/plain": [
       "'No, there are no users stuck in training.'"
      ]
     },
     "execution_count": 7,
     "metadata": {},
     "output_type": "execute_result"
    }
   ],
   "source": [
    "agent.run(\"We had a bug yesterday. Are there any users that are stuck in training?\")"
   ]
  }
 ],
 "metadata": {
  "kernelspec": {
   "display_name": "Python 3.10.4 64-bit",
   "language": "python",
   "name": "python3"
  },
  "language_info": {
   "codemirror_mode": {
    "name": "ipython",
    "version": 3
   },
   "file_extension": ".py",
   "mimetype": "text/x-python",
   "name": "python",
   "nbconvert_exporter": "python",
   "pygments_lexer": "ipython3",
   "version": "3.8.10"
  },
  "orig_nbformat": 4,
  "vscode": {
   "interpreter": {
    "hash": "31f2aee4e71d21fbe5cf8b01ff0e069b9275f58929596ceb00d14d90e3e16cd6"
   }
  }
 },
 "nbformat": 4,
 "nbformat_minor": 2
}
